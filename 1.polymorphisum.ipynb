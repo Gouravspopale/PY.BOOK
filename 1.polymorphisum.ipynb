{
 "cells": [
  {
   "attachments": {},
   "cell_type": "markdown",
   "metadata": {},
   "source": [
    "simple program on polymorphisum."
   ]
  },
  {
   "attachments": {},
   "cell_type": "markdown",
   "metadata": {},
   "source": [
    "The word \"polymorphism\" means \"many forms\", and in programming it refers to methods/functions/operators with the same name that can be executed on many objects or classes."
   ]
  },
  {
   "cell_type": "code",
   "execution_count": 4,
   "metadata": {},
   "outputs": [
    {
     "name": "stdout",
     "output_type": "stream",
     "text": [
      "5\n",
      "9\n"
     ]
    }
   ],
   "source": [
    "# A simple Python function to demonstrate\n",
    "# Polymorphism\n",
    " \n",
    "def add(x, y, z = 0):\n",
    "    return x + y+z\n",
    " \n",
    "# Driver code\n",
    "print(add(2, 3))\n",
    "print(add(2, 3, 4))"
   ]
  },
  {
   "attachments": {},
   "cell_type": "markdown",
   "metadata": {},
   "source": [
    "PYTHON PROGRAM ON POLYMORPHISUM METHOD WITH OBJECT"
   ]
  },
  {
   "cell_type": "code",
   "execution_count": 5,
   "metadata": {},
   "outputs": [
    {
     "name": "stdout",
     "output_type": "stream",
     "text": [
      "there are many types of birds\n",
      "most of birds can fly but some cannot \n",
      "S sparoow can fly\n",
      "sparrow can file\n",
      "there are many types of birds\n",
      "there are many types of birds\n",
      "S sparoow can fly\n",
      "there are many types of birds\n",
      "Ostriches cannot fly.\n"
     ]
    }
   ],
   "source": [
    "# methods/functions/operators with the same name that can be executed on many objects or classes\n",
    "\n",
    "# Polymorphism that is resolved during compile time is known as static polymorphism.\n",
    "\n",
    "# Polymorphism that is resolved during run time is known as dynamic polymorphism.\n",
    "class bird():\n",
    "    \n",
    "    def intro(self):\n",
    "        print(\"there are many types of birds\")\n",
    "    \n",
    "    def flight(self):\n",
    "        print(\"most of birds can fly but some cannot \")\n",
    "\n",
    "\n",
    "class sparrow(bird):\n",
    "    \n",
    "    def intro(self):\n",
    "        print(\"S sparoow can fly\")\n",
    "    \n",
    "    def flight(self):\n",
    "        print(\"sparrow can file\")\n",
    "\n",
    "\n",
    "class ostrich(bird):\n",
    "    def flight(self):\n",
    "        print(\"Ostriches cannot fly.\")\n",
    "    \n",
    "obj_bird=bird()        # class bird()\n",
    "\n",
    "obj_sparrow=sparrow()  # class sparrow()\n",
    "\n",
    "obj_ostrich=ostrich()  # class ostrich\n",
    "\n",
    "#  printing all function from class bird()\n",
    "# from class bird()\n",
    "obj_bird.intro()\n",
    "obj_bird.flight()\n",
    "\n",
    "#  from class sparrow\n",
    "obj_sparrow.intro()\n",
    "obj_sparrow.flight()\n",
    "\n",
    "#  from class ostrich()\n",
    "obj_ostrich.flight()\n",
    "\n",
    "# printing all intro object from all classes(bird(),sparrow(),ostrich())\n",
    "obj_bird.intro()\n",
    "\n",
    "obj_sparrow.intro()\n",
    "\n",
    "obj_ostrich.intro()\n",
    "\n",
    "#  there is no flighty in ostrich but we have mentioned in class of ostrich (bird)\n",
    "obj_ostrich.flight()\n"
   ]
  }
 ],
 "metadata": {
  "kernelspec": {
   "display_name": "Python 3",
   "language": "python",
   "name": "python3"
  },
  "language_info": {
   "codemirror_mode": {
    "name": "ipython",
    "version": 3
   },
   "file_extension": ".py",
   "mimetype": "text/x-python",
   "name": "python",
   "nbconvert_exporter": "python",
   "pygments_lexer": "ipython3",
   "version": "3.11.2"
  },
  "orig_nbformat": 4
 },
 "nbformat": 4,
 "nbformat_minor": 2
}
