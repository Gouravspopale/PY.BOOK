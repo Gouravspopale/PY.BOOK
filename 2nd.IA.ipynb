{
 "cells": [
  {
   "cell_type": "code",
   "execution_count": 1,
   "metadata": {},
   "outputs": [
    {
     "name": "stdout",
     "output_type": "stream",
     "text": [
      "ANNUAL SALARY OF EMPLOYEE IS 90000\n"
     ]
    }
   ],
   "source": [
    "# 2 WRITE A  PYTHON PROGARM  AND CREAT A CLASS NAMED EMPLOYEE WITH ATRIBUTE NAME,POISTION,SALARY,AND CALCULATE ANNUAL SALARY\n",
    "class employee:\n",
    "    NAME=\"GOURAV\"\n",
    "    POSISTION=\"KEB MANAGER\"\n",
    "    SALARY=45000\n",
    "    \n",
    "    def employee_salary(self):\n",
    "        employee_income=self.SALARY*2\n",
    "        print(\"ANNUAL SALARY OF EMPLOYEE IS\",employee_income)\n",
    "obj=employee()\n",
    "obj.employee_salary()"
   ]
  },
  {
   "cell_type": "code",
   "execution_count": 2,
   "metadata": {},
   "outputs": [
    {
     "name": "stdout",
     "output_type": "stream",
     "text": [
      "Original list of integers:\n",
      "[1, 2, 3, 4, 5, 6, 7, 8, 9, 10]\n",
      "\n",
      "Square every number of the said list:\n",
      "[1, 4, 9, 16, 25, 36, 49, 64, 81, 100]\n"
     ]
    }
   ],
   "source": [
    "# 4 WRITE A PROGRAM USEING A LAMBDA EXPRESION TO SQUAER EACH OF THE ELEMENT\n",
    "nums = [1, 2, 3, 4, 5, 6, 7, 8, 9, 10]\n",
    "print(\"Original list of integers:\")\n",
    "print(nums)\n",
    "print(\"\\nSquare every number of the said list:\")\n",
    "square_nums = list(map(lambda x: x ** 2, nums))\n",
    "print(square_nums)"
   ]
  },
  {
   "cell_type": "code",
   "execution_count": 3,
   "metadata": {},
   "outputs": [
    {
     "name": "stdout",
     "output_type": "stream",
     "text": [
      "[1, 2, 3, 4, 5, 6, 7, 8, 9, 1, 0]\n",
      "[2, 4, 6, 8, 0]\n"
     ]
    }
   ],
   "source": [
    "# WRITE PROGRAM TO PRINT EVEN NUMBER BY USING CSV SHEET WITH LIST COMPREHENSION METHOD\n",
    "import  csv\n",
    "numbers=[]\n",
    "with open(\"C:/Users/User7/Desktop/csv.file/even world.csv\",\"r\") as file:\n",
    "        data=csv.reader(file)\n",
    "        for line in data:\n",
    "            for i in line:\n",
    "                for item in i:\n",
    "                    numbers.append(int(item))\n",
    "print( numbers)\n",
    "even_number=[num for num in numbers if num%2==0]\n",
    "print( even_number)"
   ]
  }
 ],
 "metadata": {
  "kernelspec": {
   "display_name": "Python 3",
   "language": "python",
   "name": "python3"
  },
  "language_info": {
   "codemirror_mode": {
    "name": "ipython",
    "version": 3
   },
   "file_extension": ".py",
   "mimetype": "text/x-python",
   "name": "python",
   "nbconvert_exporter": "python",
   "pygments_lexer": "ipython3",
   "version": "3.11.2"
  },
  "orig_nbformat": 4
 },
 "nbformat": 4,
 "nbformat_minor": 2
}
