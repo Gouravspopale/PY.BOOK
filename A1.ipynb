{
 "cells": [
  {
   "cell_type": "code",
   "execution_count": 23,
   "metadata": {},
   "outputs": [
    {
     "name": "stdout",
     "output_type": "stream",
     "text": [
      " ON True\n",
      " OFF False\n",
      "False\n"
     ]
    }
   ],
   "source": [
    "class Bulb:\n",
    "    ON = True\n",
    "    OFF = False\n",
    "\n",
    "    def status(self):\n",
    "        print(\" ON\",self.ON)\n",
    "        print(\" OFF\",self.OFF)\n",
    "obj = Bulb()\n",
    "obj.status()\n",
    "print(obj.OFF)"
   ]
  },
  {
   "cell_type": "code",
   "execution_count": 26,
   "metadata": {},
   "outputs": [
    {
     "name": "stdout",
     "output_type": "stream",
     "text": [
      "(4, 4, 'supRA')\n"
     ]
    }
   ],
   "source": [
    "class car:\n",
    "    settingcapcity=\"\"\n",
    "    wheels=\"\"\n",
    "    carmoudle=\"\"\n",
    "\n",
    "    def init(self,settingcapcity,wheels,carmoudle):\n",
    "        self.settingcapcity=settingcapcity\n",
    "        self.wheels=wheels\n",
    "        self.carmoudle=carmoudle\n",
    "    def cardetails(self):\n",
    "        print(\" cardetailes\",self.settingcapcity,self.wheels,self.carmoudle)\n",
    "obj=(4,4,\"supRA\")\n",
    "print(obj)\n"
   ]
  }
 ],
 "metadata": {
  "kernelspec": {
   "display_name": "Python 3",
   "language": "python",
   "name": "python3"
  },
  "language_info": {
   "codemirror_mode": {
    "name": "ipython",
    "version": 3
   },
   "file_extension": ".py",
   "mimetype": "text/x-python",
   "name": "python",
   "nbconvert_exporter": "python",
   "pygments_lexer": "ipython3",
   "version": "3.11.2"
  },
  "orig_nbformat": 4
 },
 "nbformat": 4,
 "nbformat_minor": 2
}
