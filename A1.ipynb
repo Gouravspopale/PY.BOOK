{
 "cells": [
  {
   "cell_type": "code",
   "execution_count": 23,
   "metadata": {},
   "outputs": [
    {
     "name": "stdout",
     "output_type": "stream",
     "text": [
      " ON True\n",
      " OFF False\n",
      "False\n"
     ]
    }
   ],
   "source": [
    "class Bulb:\n",
    "    ON = True\n",
    "    OFF = False\n",
    "\n",
    "    def status(self):\n",
    "        print(\" ON\",self.ON)\n",
    "        print(\" OFF\",self.OFF)\n",
    "obj = Bulb()\n",
    "obj.status()\n",
    "print(obj.OFF)"
   ]
  },
  {
   "cell_type": "code",
   "execution_count": 26,
   "metadata": {},
   "outputs": [
    {
     "name": "stdout",
     "output_type": "stream",
     "text": [
      "(4, 4, 'supRA')\n"
     ]
    }
   ],
   "source": [
    "class car:\n",
    "    settingcapcity=\"\"\n",
    "    wheels=\"\"\n",
    "    carmoudle=\"\"\n",
    "\n",
    "    def init(self,settingcapcity,wheels,carmoudle):\n",
    "        self.settingcapcity=settingcapcity\n",
    "        self.wheels=wheels\n",
    "        self.carmoudle=carmoudle\n",
    "    def cardetails(self):\n",
    "        print(\" cardetailes\",self.settingcapcity,self.wheels,self.carmoudle)\n",
    "obj=(4,4,\"supRA\")\n",
    "print(obj)\n"
   ]
  },
  {
   "cell_type": "code",
   "execution_count": 39,
   "metadata": {},
   "outputs": [
    {
     "name": "stdout",
     "output_type": "stream",
     "text": [
      "YOUR READY TO DRIVE\n"
     ]
    }
   ],
   "source": [
    "class Truck:\n",
    "    seatcapacity=2\n",
    "    wheels=6\n",
    "    fuel=\"D\"\n",
    "    carrier=\"Goods\"\n",
    "    fuelstatus=True\n",
    "    # def fuelstatus1(self):\n",
    "    #     print(\"ON:\",self.ON)\n",
    "    #     print(\"OFF:\",self.OFF)\n",
    "    \n",
    "\n",
    "    def drive(self):\n",
    "        if(self.fuelstatus == True):\n",
    "            print(\"YOUR READY TO DRIVE\")\n",
    "        #     if(self.fuelstatus == False):\n",
    "        #         print(\"YOUR READY TO DRIVE\")\n",
    "        else:\n",
    "            print(\"NO FUEL\")\n",
    "        \n",
    "\n",
    "    \n",
    "    def __init__(self,seatcapacity,wheels):\n",
    "        self.seatcapacity=2\n",
    "        self.wheels=6\n",
    "        self.fuel=\"D\"\n",
    "        self.carrier=\"Goods\"\n",
    "        self.fuelstatus=False\n",
    "    def __init__(self,seatcapacity,wheels):\n",
    "        self.seatcapacity=seatcapacity\n",
    "        self.wheels=wheels\n",
    "        self.fuel=\"D\"\n",
    "        self.carrier=\"Goods\"\n",
    "        self.fuelstatus=True\n",
    "\n",
    "obj=Truck(10,8)\n",
    "obj.drive()\n",
    "# obj1=Truck()\n",
    "# obj1.drive()"
   ]
  },
  {
   "cell_type": "code",
   "execution_count": 37,
   "metadata": {},
   "outputs": [
    {
     "name": "stdout",
     "output_type": "stream",
     "text": [
      "abc  STUDENT IS PASSED\n"
     ]
    }
   ],
   "source": [
    "class student:\n",
    "    name=\"xyz\"\n",
    "    rollnumber=\"123\"\n",
    "    s1=0\n",
    "    s2=0\n",
    "    s3=0\n",
    "    passmarks=0\n",
    "    \n",
    "    def Result(self):\n",
    "        if(self.s1>self.passmarks):\n",
    "            print(self.name,\" STUDENT IS PASSED\")\n",
    "        else:\n",
    "            print(self.name,\" STUDENT IS FAILED\")\n",
    "\n",
    "    def __init__(self,name,rollnumber,s1,s2,s3,passmarks):\n",
    "        self.name=name\n",
    "        self.rollnumber=rollnumber\n",
    "        self.s1=s1\n",
    "        self.s2=s2\n",
    "        self.s3=s3\n",
    "        self.passmarks=passmarks\n",
    "\n",
    "\n",
    "obj=student(\"abc\",456,25,55,65,24)\n",
    "obj.Result()\n"
   ]
  },
  {
   "attachments": {},
   "cell_type": "markdown",
   "metadata": {},
   "source": [
    " program on polymorphisum method"
   ]
  },
  {
   "cell_type": "code",
   "execution_count": 12,
   "metadata": {},
   "outputs": [
    {
     "name": "stdout",
     "output_type": "stream",
     "text": [
      "there are many types of birds\n",
      "S sparoow can fly\n",
      "ostrich cannot fiy\n"
     ]
    }
   ],
   "source": [
    "class bird():\n",
    "    def intro(self):\n",
    "        print(\"there are many types of birds\")\n",
    "    def flight(self):\n",
    "        print(\"most of birds can fly but some cannot \")\n",
    "class sparrow(bird):\n",
    "    def intro(self):\n",
    "        print(\"S sparoow can fly\")\n",
    "    def flight(self):\n",
    "        print(\"sparrow can file\")\n",
    "\n",
    "class ostrich(bird):\n",
    "    def intro(self):\n",
    "        print(\"ostrich cannot fiy\")\n",
    "\n",
    "obj_bird=bird()\n",
    "obj_sparrow=sparrow()\n",
    "obj_ostrich=ostrich()\n",
    "\n",
    "#  printing all function from class\n",
    "obj_bird.intro()\n",
    "obj_bird.flight()\n",
    "\n",
    "obj_sparrow.intro()\n",
    "obj_sparrow.flight()\n",
    "\n",
    "obj_ostrich.intro()\n",
    "\n",
    "# printing all intro object from all function\n",
    "obj_bird.intro()\n",
    "obj_sparrow.intro()\n",
    "obj_ostrich.intro()\n",
    "\n",
    "#  there is no flighty in ostrich but we have mentioned in class of ostrich (bird)\n",
    "obj_ostrich.flight()\n",
    "\n",
    "\n",
    "\n",
    "def func(obj):\n",
    "    obj.intro()\n",
    "func(obj_bird)\n",
    "func(obj_sparrow)\n",
    "func(obj_ostrich)"
   ]
  }
 ],
 "metadata": {
  "kernelspec": {
   "display_name": "Python 3",
   "language": "python",
   "name": "python3"
  },
  "language_info": {
   "codemirror_mode": {
    "name": "ipython",
    "version": 3
   },
   "file_extension": ".py",
   "mimetype": "text/x-python",
   "name": "python",
   "nbconvert_exporter": "python",
   "pygments_lexer": "ipython3",
   "version": "3.11.2"
  },
  "orig_nbformat": 4
 },
 "nbformat": 4,
 "nbformat_minor": 2
}
