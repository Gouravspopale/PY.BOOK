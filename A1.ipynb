{
 "cells": [
  {
   "cell_type": "code",
   "execution_count": 1,
   "metadata": {},
   "outputs": [
    {
     "name": "stdout",
     "output_type": "stream",
     "text": [
      " ON True\n",
      " OFF False\n",
      "False\n"
     ]
    }
   ],
   "source": [
    "class Bulb:\n",
    "    ON = True\n",
    "    OFF = False\n",
    "\n",
    "    def status(self):\n",
    "        print(\" ON\",self.ON)\n",
    "        print(\" OFF\",self.OFF)\n",
    "obj = Bulb()\n",
    "obj.status()\n",
    "print(obj.OFF)"
   ]
  },
  {
   "cell_type": "code",
   "execution_count": 5,
   "metadata": {},
   "outputs": [
    {
     "name": "stdout",
     "output_type": "stream",
     "text": [
      "(4, 'maruti 800')\n"
     ]
    }
   ],
   "source": [
    "class car:\n",
    "    settingcapcity=\"\"\n",
    "    wheels=\"\"\n",
    "    carmoudle=\"\"\n",
    "\n",
    "    def init(self,settingcapcity,wheels,carmoudle):\n",
    "        self.settingcapcity=settingcapcity\n",
    "        self.wheels=wheels\n",
    "        self.carmoudle=carmoudle\n",
    "    def cardetails(self):\n",
    "        print(\" cardetailes\",self.settingcapcity,self.wheels,self.carmoudle)\n",
    "obj=(4,\"maruti 800\")\n",
    "print(obj)\n"
   ]
  },
  {
   "cell_type": "code",
   "execution_count": 39,
   "metadata": {},
   "outputs": [
    {
     "name": "stdout",
     "output_type": "stream",
     "text": [
      "YOUR READY TO DRIVE\n"
     ]
    }
   ],
   "source": [
    "class Truck:\n",
    "    seatcapacity=2\n",
    "    wheels=6\n",
    "    fuel=\"D\"\n",
    "    carrier=\"Goods\"\n",
    "    fuelstatus=True\n",
    "    # def fuelstatus1(self):\n",
    "    #     print(\"ON:\",self.ON)\n",
    "    #     print(\"OFF:\",self.OFF)\n",
    "    \n",
    "\n",
    "    def drive(self):\n",
    "        if(self.fuelstatus == True):\n",
    "            print(\"YOUR READY TO DRIVE\")\n",
    "        #     if(self.fuelstatus == False):\n",
    "                # print(\"YOUR READY TO DRIVE\")\n",
    "        else:\n",
    "            print(\"NO FUEL\")\n",
    "        \n",
    "\n",
    "    \n",
    "    def __init__(self,seatcapacity,wheels):\n",
    "        self.seatcapacity=2\n",
    "        self.wheels=6\n",
    "        self.fuel=\"D\"\n",
    "        self.carrier=\"Goods\"\n",
    "        self.fuelstatus=False\n",
    "    def __init__(self,seatcapacity,wheels):\n",
    "        self.seatcapacity=seatcapacity\n",
    "        self.wheels=wheels\n",
    "        self.fuel=\"D\"\n",
    "        self.carrier=\"goods\"\n",
    "        self.fuelstatus=True\n",
    "\n",
    "obj=Truck(10,8)\n",
    "obj.drive()\n",
    "# obj1=Truck()\n",
    "# obj1.drive()"
   ]
  },
  {
   "cell_type": "code",
   "execution_count": 37,
   "metadata": {},
   "outputs": [
    {
     "name": "stdout",
     "output_type": "stream",
     "text": [
      "abc  STUDENT IS PASSED\n"
     ]
    }
   ],
   "source": [
    "class student:\n",
    "    name=\"xyz\"\n",
    "    rollnumber=\"123\"\n",
    "    s1=0\n",
    "    s2=0\n",
    "    s3=0\n",
    "    passmarks=0\n",
    "    \n",
    "    def Result(self):\n",
    "        if(self.s1>self.passmarks):\n",
    "            print(self.name,\" STUDENT IS PASSED\")\n",
    "        else:\n",
    "            print(self.name,\" STUDENT IS FAILED\")\n",
    "\n",
    "    def __init__(self,name,rollnumber,s1,s2,s3,passmarks):\n",
    "        self.name=name\n",
    "        self.rollnumber=rollnumber\n",
    "        self.s1=s1\n",
    "        self.s2=s2\n",
    "        self.s3=s3\n",
    "        self.passmarks=passmarks\n",
    "\n",
    "\n",
    "obj=student(\"abc\",456,25,55,65,24)\n",
    "obj.Result()\n"
   ]
  },
  {
   "attachments": {},
   "cell_type": "markdown",
   "metadata": {},
   "source": [
    "PYTHON PROGRAM ON POLYMORPHISUM METHOD"
   ]
  },
  {
   "cell_type": "code",
   "execution_count": 1,
   "metadata": {},
   "outputs": [
    {
     "name": "stdout",
     "output_type": "stream",
     "text": [
      "there are many types of birds\n",
      "most of birds can fly but some cannot \n",
      "S sparoow can fly\n",
      "sparrow can file\n",
      "ostrich cannot fiy\n",
      "there are many types of birds\n",
      "S sparoow can fly\n",
      "ostrich cannot fiy\n",
      "most of birds can fly but some cannot \n",
      "there are many types of birds\n",
      "S sparoow can fly\n",
      "ostrich cannot fiy\n"
     ]
    }
   ],
   "source": [
    "class bird():\n",
    "    def intro(self):\n",
    "        print(\"there are many types of birds\")\n",
    "    def flight(self):\n",
    "        print(\"most of birds can fly but some cannot \")\n",
    "class sparrow(bird):\n",
    "    def intro(self):\n",
    "        print(\"S sparoow can fly\")\n",
    "    def flight(self):\n",
    "        print(\"sparrow can file\")\n",
    "\n",
    "class ostrich(bird):\n",
    "    def intro(self):\n",
    "        print(\"ostrich cannot fiy\")\n",
    "\n",
    "obj_bird=bird()\n",
    "obj_sparrow=sparrow()\n",
    "obj_ostrich=ostrich()\n",
    "\n",
    "#  printing all function from class\n",
    "obj_bird.intro()\n",
    "obj_bird.flight()\n",
    "\n",
    "obj_sparrow.intro()\n",
    "obj_sparrow.flight()\n",
    "\n",
    "obj_ostrich.intro()\n",
    "\n",
    "# printing all intro object from all function\n",
    "obj_bird.intro()\n",
    "obj_sparrow.intro()\n",
    "obj_ostrich.intro()\n",
    "\n",
    "#  there is no flighty in ostrich but we have mentioned in class of ostrich (bird)\n",
    "obj_ostrich.flight()\n",
    "\n",
    "\n",
    "\n",
    "def func(obj):\n",
    "    obj.intro()\n",
    "func(obj_bird)\n",
    "func(obj_sparrow)\n",
    "func(obj_ostrich)"
   ]
  },
  {
   "attachments": {},
   "cell_type": "markdown",
   "metadata": {},
   "source": [
    "Inheritance Demo"
   ]
  },
  {
   "cell_type": "code",
   "execution_count": 20,
   "metadata": {},
   "outputs": [
    {
     "name": "stdout",
     "output_type": "stream",
     "text": [
      "sum: 30\n"
     ]
    }
   ],
   "source": [
    "class Base():\n",
    "    a = 10\n",
    "class Derived(Base):\n",
    "    b = 20\n",
    "\n",
    "    def add(self):\n",
    "        c=self.a + self.b\n",
    "        print(\"sum:\",c)\n",
    "\n",
    "obj1= Derived()\n",
    "obj1.add()"
   ]
  },
  {
   "cell_type": "code",
   "execution_count": 5,
   "metadata": {},
   "outputs": [
    {
     "name": "stdout",
     "output_type": "stream",
     "text": [
      "Triangle have 3 sides\n"
     ]
    }
   ],
   "source": [
    "from abc import ABC, abstractmethod\n",
    "\n",
    "class polygon(ABC):\n",
    "    @abstractmethod\n",
    "    def sides(self):\n",
    "        pass\n",
    "\n",
    "class Triangle(polygon):\n",
    "    def sides(self):\n",
    "        print(\"Triangle have 3 sides\")\n",
    "\n",
    "obj1=Triangle()\n",
    "obj1.sides()\n",
    "\n"
   ]
  },
  {
   "attachments": {},
   "cell_type": "markdown",
   "metadata": {},
   "source": [
    "PYTHON PROGRAM FOR INHERITENCE  METHOD"
   ]
  },
  {
   "cell_type": "code",
   "execution_count": 1,
   "metadata": {},
   "outputs": [
    {
     "name": "stdout",
     "output_type": "stream",
     "text": [
      "i am from computer_science Department Darshan WEB Developer infoses 120000\n",
      "i am from Electronic_communications Department Bhavesh kEB,MANAGER karnataka 95000\n",
      "i am from Civil_engineer Department Sai Architecture Stantec 89000\n",
      "i am from Mechanical_engineer Department Raj Testing Ashok Leyland 80000\n",
      "i am from Industrial_engineer Department kiran MANAGER SUGAR_FAC 95000\n"
     ]
    }
   ],
   "source": [
    "class Engineering():\n",
    "    Name=\"\"\n",
    "    prof=\"\"\n",
    "    company_name=\"\"\n",
    "    salary=\"\"\n",
    "    def display(self):\n",
    "        pass\n",
    "\n",
    "class computer_science(Engineering):\n",
    "    def cs_crew(self,Name,prof,company_name,salary):\n",
    "        self.Name=Name\n",
    "        self.prof=prof\n",
    "        self.company_name=company_name\n",
    "        self.salary=salary\n",
    "    def display(self):\n",
    "        print(\"i am from computer_science Department\",self.Name,self.prof,self.company_name,self.salary)\n",
    "\n",
    "\n",
    "class Electronic_communications(Engineering):\n",
    "    def ENC_world(self,Name,prof,company_name,salary):\n",
    "        self.Name=Name\n",
    "        self.prof=prof\n",
    "        self.company_name=company_name\n",
    "        self.salary=salary\n",
    "    def display(self):\n",
    "        print(\"i am from Electronic_communications Department\",self.Name,self.prof,self.company_name,self.salary)\n",
    "\n",
    "\n",
    "class Civil_engineer(Engineering):\n",
    "    def civil_war(self,Name,prof,company_name,salary):\n",
    "        self.Name=Name\n",
    "        self.prof=prof\n",
    "        self.company_name=company_name\n",
    "        self.salary=salary\n",
    "    def display(self):\n",
    "        print(\"i am from Civil_engineer Department\",self.Name,self.prof,self.company_name,self.salary)\n",
    "\n",
    "\n",
    "class Mechanical_engineer(Engineering):\n",
    "    def Royal_mech(self,Name,prof,company_name,salary):\n",
    "        self.Name=Name\n",
    "        self.prof=prof\n",
    "        self.company_name=company_name\n",
    "        self.salary=salary\n",
    "    def display(self):\n",
    "        print(\"i am from Mechanical_engineer Department\",self.Name,self.prof,self.company_name,self.salary)\n",
    "\n",
    "class Industrial_engineer(Engineering):\n",
    "    def industrial_area(self,Name,prof,company_name,salary):\n",
    "        self.Name=Name\n",
    "        self.prof=prof\n",
    "        self.company_name=company_name\n",
    "        self.salary=salary\n",
    "    def display(self):\n",
    "        print(\"i am from Industrial_engineer Department\",self.Name,self.prof,self.company_name,self.salary)\n",
    "\n",
    "objcs=computer_science()\n",
    "objcs.cs_crew(\"Darshan\",\"WEB Developer\",\"infoses\",120000)\n",
    "objcs.display()\n",
    "\n",
    "objcs=Electronic_communications()\n",
    "objcs.ENC_world(\"Bhavesh\",\"kEB,MANAGER\",\"karnataka\",95000)\n",
    "objcs.display()\n",
    "\n",
    "objcs=Civil_engineer()\n",
    "objcs.civil_war(\"Sai\",\"Architecture\",\"Stantec\",89000)\n",
    "objcs.display()\n",
    "\n",
    "objcs=Mechanical_engineer()\n",
    "objcs.Royal_mech(\"Raj\",\"Testing\",\"Ashok Leyland\",80000)\n",
    "objcs.display()\n",
    "\n",
    "objcs=Industrial_engineer()\n",
    "objcs.industrial_area(\"kiran\",\"MANAGER\",\"SUGAR_FAC\",95000)\n",
    "objcs.display()"
   ]
  }
 ],
 "metadata": {
  "kernelspec": {
   "display_name": "Python 3",
   "language": "python",
   "name": "python3"
  },
  "language_info": {
   "codemirror_mode": {
    "name": "ipython",
    "version": 3
   },
   "file_extension": ".py",
   "mimetype": "text/x-python",
   "name": "python",
   "nbconvert_exporter": "python",
   "pygments_lexer": "ipython3",
   "version": "3.11.2"
  },
  "orig_nbformat": 4
 },
 "nbformat": 4,
 "nbformat_minor": 2
}
