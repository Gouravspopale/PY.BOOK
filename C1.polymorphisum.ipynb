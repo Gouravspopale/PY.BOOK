{
 "cells": [
  {
   "attachments": {},
   "cell_type": "markdown",
   "metadata": {},
   "source": [
    "PYTHON PROGRAM ON POLYMORPHISUM METHOD WITH OBJECT"
   ]
  },
  {
   "cell_type": "code",
   "execution_count": 3,
   "metadata": {},
   "outputs": [
    {
     "name": "stdout",
     "output_type": "stream",
     "text": [
      "there are many types of birds\n",
      "most of birds can fly but some cannot \n",
      "S sparoow can fly\n",
      "sparrow can file\n",
      "ostrich cannot fiy\n",
      "there are many types of birds\n",
      "S sparoow can fly\n",
      "ostrich cannot fiy\n",
      "most of birds can fly but some cannot \n"
     ]
    }
   ],
   "source": [
    "\n",
    "\n",
    "class bird():\n",
    "    def intro(self):\n",
    "        print(\"there are many types of birds\")\n",
    "    def flight(self):\n",
    "        print(\"most of birds can fly but some cannot \")\n",
    "class sparrow(bird):\n",
    "    def intro(self):\n",
    "        print(\"S sparoow can fly\")\n",
    "    def flight(self):\n",
    "        print(\"sparrow can file\")\n",
    "\n",
    "class ostrich(bird):\n",
    "    def intro(self):\n",
    "        print(\"ostrich cannot fiy\")\n",
    "    \n",
    "obj_bird=bird()        # class bird()\n",
    "\n",
    "obj_sparrow=sparrow()  # class sparrow()\n",
    "\n",
    "obj_ostrich=ostrich()  # class ostrich\n",
    "\n",
    "#  printing all function from class bird()\n",
    "\n",
    "obj_bird.intro()\n",
    "obj_bird.flight()\n",
    "\n",
    "obj_sparrow.intro()\n",
    "obj_sparrow.flight()\n",
    "\n",
    "obj_ostrich.intro()\n",
    "\n",
    "# printing all intro object from all classes(bird(),sparrow(),ostrich())\n",
    "obj_bird.intro()\n",
    "obj_sparrow.intro()\n",
    "obj_ostrich.intro()\n",
    "\n",
    "#  there is no flighty in ostrich but we have mentioned in class of ostrich (bird)\n",
    "obj_ostrich.flight()\n"
   ]
  }
 ],
 "metadata": {
  "kernelspec": {
   "display_name": "Python 3",
   "language": "python",
   "name": "python3"
  },
  "language_info": {
   "codemirror_mode": {
    "name": "ipython",
    "version": 3
   },
   "file_extension": ".py",
   "mimetype": "text/x-python",
   "name": "python",
   "nbconvert_exporter": "python",
   "pygments_lexer": "ipython3",
   "version": "3.11.2"
  },
  "orig_nbformat": 4
 },
 "nbformat": 4,
 "nbformat_minor": 2
}
