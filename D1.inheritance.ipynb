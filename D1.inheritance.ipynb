{
 "cells": [
  {
   "attachments": {},
   "cell_type": "markdown",
   "metadata": {},
   "source": [
    "PYTHON PROGRAM FOR INHERITENCE  METHOD"
   ]
  },
  {
   "attachments": {},
   "cell_type": "markdown",
   "metadata": {},
   "source": [
    "nheritance relationship defines the classes that inherit from other classes as derived, subclass, or sub-type classes."
   ]
  },
  {
   "cell_type": "code",
   "execution_count": 1,
   "metadata": {},
   "outputs": [
    {
     "name": "stdout",
     "output_type": "stream",
     "text": [
      "i am from computer_science Department Darshan WEB Developer infoses 120000\n",
      "i am from Electronic_communications Department Bhavesh kEB,MANAGER karnataka 95000\n",
      "i am from Civil_engineer Department Sai Architecture Stantec 89000\n",
      "i am from Mechanical_engineer Department Raj Testing Ashok Leyland 80000\n",
      "i am from Industrial_engineer Department kiran MANAGER SUGAR_FAC 95000\n"
     ]
    }
   ],
   "source": [
    "# Inheritance relationship defines the classes that inherit from other classes as derived,\n",
    "#  subclass, or sub-type classes\n",
    "\n",
    "class Engineering():\n",
    "    Name=\"\"\n",
    "    prof=\"\"\n",
    "    company_name=\"\"\n",
    "    salary=\"\"\n",
    "    def display(self):\n",
    "        pass\n",
    "\n",
    "class computer_science(Engineering):\n",
    "    def cs_crew(self,Name,prof,company_name,salary):\n",
    "        self.Name=Name\n",
    "        self.prof=prof\n",
    "        self.company_name=company_name\n",
    "        self.salary=salary\n",
    "    def display(self):\n",
    "        print(\"i am from computer_science Department\",self.Name,self.prof,self.company_name,self.salary)\n",
    "\n",
    "\n",
    "class Electronic_communications(Engineering):\n",
    "    def ENC_world(self,Name,prof,company_name,salary):\n",
    "        self.Name=Name\n",
    "        self.prof=prof\n",
    "        self.company_name=company_name\n",
    "        self.salary=salary\n",
    "    def display(self):\n",
    "        print(\"i am from Electronic_communications Department\",self.Name,self.prof,self.company_name,self.salary)\n",
    "\n",
    "\n",
    "class Civil_engineer(Engineering):\n",
    "    def civil_war(self,Name,prof,company_name,salary):\n",
    "        self.Name=Name\n",
    "        self.prof=prof\n",
    "        self.company_name=company_name\n",
    "        self.salary=salary\n",
    "    def display(self):\n",
    "        print(\"i am from Civil_engineer Department\",self.Name,self.prof,self.company_name,self.salary)\n",
    "\n",
    "\n",
    "class Mechanical_engineer(Engineering):\n",
    "    def Royal_mech(self,Name,prof,company_name,salary):\n",
    "        self.Name=Name\n",
    "        self.prof=prof\n",
    "        self.company_name=company_name\n",
    "        self.salary=salary\n",
    "    def display(self):\n",
    "        print(\"i am from Mechanical_engineer Department\",self.Name,self.prof,self.company_name,self.salary)\n",
    "\n",
    "class Industrial_engineer(Engineering):\n",
    "    def industrial_area(self,Name,prof,company_name,salary):\n",
    "        self.Name=Name\n",
    "        self.prof=prof\n",
    "        self.company_name=company_name\n",
    "        self.salary=salary\n",
    "    def display(self):\n",
    "        print(\"i am from Industrial_engineer Department\",self.Name,self.prof,self.company_name,self.salary)\n",
    "\n",
    "objcs=computer_science()\n",
    "objcs.cs_crew(\"Darshan\",\"WEB Developer\",\"infoses\",120000)\n",
    "objcs.display()\n",
    "\n",
    "objcs=Electronic_communications()\n",
    "objcs.ENC_world(\"Bhavesh\",\"kEB,MANAGER\",\"karnataka\",95000)\n",
    "objcs.display()\n",
    "\n",
    "objcs=Civil_engineer()\n",
    "objcs.civil_war(\"Sai\",\"Architecture\",\"Stantec\",89000)\n",
    "objcs.display()\n",
    "\n",
    "objcs=Mechanical_engineer()\n",
    "objcs.Royal_mech(\"Raj\",\"Testing\",\"Ashok Leyland\",80000)\n",
    "objcs.display()\n",
    "\n",
    "objcs=Industrial_engineer()\n",
    "objcs.industrial_area(\"kiran\",\"MANAGER\",\"SUGAR_FAC\",95000)\n",
    "objcs.display()"
   ]
  }
 ],
 "metadata": {
  "kernelspec": {
   "display_name": "Python 3",
   "language": "python",
   "name": "python3"
  },
  "language_info": {
   "codemirror_mode": {
    "name": "ipython",
    "version": 3
   },
   "file_extension": ".py",
   "mimetype": "text/x-python",
   "name": "python",
   "nbconvert_exporter": "python",
   "pygments_lexer": "ipython3",
   "version": "3.11.2"
  },
  "orig_nbformat": 4
 },
 "nbformat": 4,
 "nbformat_minor": 2
}
